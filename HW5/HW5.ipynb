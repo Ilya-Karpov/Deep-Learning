{
 "cells": [
  {
   "cell_type": "markdown",
   "id": "10b6ecaf",
   "metadata": {},
   "source": [
    "### Задание 1.  \n",
    "\n",
    "Обучите нейронную сеть решать шифр Цезаря.\n",
    "\n",
    "Что необходимо сделать:\n",
    "\n",
    "1. Написать алгоритм шифра Цезаря для генерации выборки (сдвиг на К каждой буквы. Например, при сдвиге на 2 буква “А” переходит в букву “В” и тп)  \n",
    "2. Сделать нейронную сеть  \n",
    "3. Обучить ее (вход - зашифрованная фраза, выход - дешифрованная фраза)  \n",
    "4. Проверить качество"
   ]
  },
  {
   "cell_type": "code",
   "execution_count": 17,
   "id": "15597ff9",
   "metadata": {},
   "outputs": [],
   "source": [
    "import torch\n",
    "import re\n",
    "import pandas as pd"
   ]
  },
  {
   "cell_type": "code",
   "execution_count": 2,
   "id": "1d0a1acf",
   "metadata": {},
   "outputs": [
    {
     "data": {
      "text/plain": [
       "'cuda'"
      ]
     },
     "execution_count": 2,
     "metadata": {},
     "output_type": "execute_result"
    }
   ],
   "source": [
    "device = \"cuda\" if torch.cuda.is_available() else \"cpu\"\n",
    "device"
   ]
  },
  {
   "cell_type": "code",
   "execution_count": 3,
   "id": "51dc83c7",
   "metadata": {},
   "outputs": [],
   "source": [
    "alphabet = 'абвгдеёжзийклмнопрстуфхцчшщъыьэюя'"
   ]
  },
  {
   "cell_type": "code",
   "execution_count": 4,
   "id": "8ad65479",
   "metadata": {},
   "outputs": [],
   "source": [
    "def caesar(word, key):\n",
    "#    wordl = word.lower()\n",
    "    encrypted = []\n",
    "    for letter in word:\n",
    "        if letter in alphabet:\n",
    "            new_key = (alphabet.find(letter) + key)  % len(alphabet)\n",
    "            encrypted += alphabet[new_key]\n",
    "        else:\n",
    "            encrypted += letter\n",
    "    return encrypted"
   ]
  },
  {
   "cell_type": "code",
   "execution_count": 5,
   "id": "7a12960f",
   "metadata": {},
   "outputs": [
    {
     "name": "stdout",
     "output_type": "stream",
     "text": [
      "['ф', 'х', 'н', 'ж', 'й', 'ч', 'д']\n"
     ]
    }
   ],
   "source": [
    "print(caesar('приветя', 5))"
   ]
  },
  {
   "cell_type": "code",
   "execution_count": 6,
   "id": "01c904ee",
   "metadata": {},
   "outputs": [
    {
     "name": "stdout",
     "output_type": "stream",
     "text": [
      "length: 44586\n"
     ]
    }
   ],
   "source": [
    "with open('Архив/onegin.txt', encoding='utf-8') as f:\n",
    "    text = f.read().lower()\n",
    "print('length:', len(text))\n",
    "text = re.sub('[^а-я]', ' ', text)\n",
    "text = re.sub('\\s+', ' ', text)"
   ]
  },
  {
   "cell_type": "code",
   "execution_count": 7,
   "id": "3d00e3c4",
   "metadata": {},
   "outputs": [
    {
     "name": "stdout",
     "output_type": "stream",
     "text": [
      "евгений онегин \n",
      "['ё', 'г', 'д', 'ё', 'о', 'й', 'к', ' ', 'п', 'о', 'ё', 'д', 'й', 'о', ' ']\n"
     ]
    }
   ],
   "source": [
    "onegin = caesar(text, 1)\n",
    "print(text[:15])\n",
    "print(onegin[:15])"
   ]
  },
  {
   "cell_type": "code",
   "execution_count": 8,
   "id": "c9b1980f",
   "metadata": {},
   "outputs": [],
   "source": [
    "INDEX_TO_CHAR = ['none'] + [w for w in alphabet]\n",
    "CHAR_TO_INDEX = {w: i for i, w in enumerate(INDEX_TO_CHAR)}"
   ]
  },
  {
   "cell_type": "code",
   "execution_count": 9,
   "id": "dd8d51d5",
   "metadata": {},
   "outputs": [],
   "source": [
    "MAX_LEN = 50\n",
    "X = torch.zeros((len(text), MAX_LEN), dtype=int)\n",
    "for i in range(len(text)):\n",
    "    for j, w in enumerate(text[i]):\n",
    "        if j >= MAX_LEN:\n",
    "            break\n",
    "        X[i, j] = CHAR_TO_INDEX.get(w, CHAR_TO_INDEX['none'])"
   ]
  },
  {
   "cell_type": "code",
   "execution_count": 10,
   "id": "61b81002",
   "metadata": {},
   "outputs": [],
   "source": [
    "Y = torch.zeros((len(onegin), MAX_LEN), dtype=int)\n",
    "for i in range(len(onegin)):\n",
    "    for j, w in enumerate(onegin[i]):\n",
    "        if j >= MAX_LEN:\n",
    "            break\n",
    "        Y[i, j] = CHAR_TO_INDEX.get(w, CHAR_TO_INDEX['none'])"
   ]
  },
  {
   "cell_type": "code",
   "execution_count": 11,
   "id": "f394ab42",
   "metadata": {},
   "outputs": [],
   "source": [
    "class Network(torch.nn.Module):\n",
    "    def __init__(self):\n",
    "        super(Network, self).__init__()\n",
    "        self.embed = torch.nn.Embedding(len(CHAR_TO_INDEX), 28)\n",
    "        self.rnn = torch.nn.RNN(28, 128, batch_first=True)\n",
    "        self.linear= torch.nn.Linear(128, len(INDEX_TO_CHAR))\n",
    "        \n",
    "    def forward(self, word, state=None):\n",
    "        embed = self.embed(word)\n",
    "        o, s = self.rnn(embed, state)\n",
    "        out = self.linear(o)\n",
    "        return out, s"
   ]
  },
  {
   "cell_type": "code",
   "execution_count": 12,
   "id": "b2106ee2",
   "metadata": {},
   "outputs": [],
   "source": [
    "model = Network()\n",
    "criterion = torch.nn.CrossEntropyLoss()\n",
    "optimizer = torch.optim.SGD(model.parameters(), lr=0.05)"
   ]
  },
  {
   "cell_type": "code",
   "execution_count": 13,
   "id": "20952073",
   "metadata": {},
   "outputs": [
    {
     "name": "stdout",
     "output_type": "stream",
     "text": [
      "Epoch 0. Train loss: 0.055\n",
      "Epoch 1. Train loss: 0.011\n",
      "Epoch 2. Train loss: 0.005\n",
      "Epoch 3. Train loss: 0.003\n",
      "Epoch 4. Train loss: 0.002\n",
      "Epoch 5. Train loss: 0.001\n",
      "Epoch 6. Train loss: 0.001\n",
      "Epoch 7. Train loss: 0.001\n",
      "Epoch 8. Train loss: 0.001\n",
      "Epoch 9. Train loss: 0.001\n"
     ]
    }
   ],
   "source": [
    "for ep in range(10):\n",
    "    train_loss = 0.\n",
    "    train_passed = 0\n",
    "\n",
    "    for i in range(int(len(X) / 100)):\n",
    "        batch = X[i * 100:(i + 1) * 100]\n",
    "        X_batch = batch[:, :-1]\n",
    "        Y_batch = batch[:, 1:].flatten()\n",
    "\n",
    "        optimizer.zero_grad()\n",
    "        answers, _ = model.forward(X_batch)\n",
    "        answers = answers.view(-1, len(INDEX_TO_CHAR))\n",
    "        loss = criterion(answers, Y_batch)\n",
    "        train_loss += loss.item()\n",
    "\n",
    "        loss.backward()\n",
    "        optimizer.step()\n",
    "        train_passed += 1\n",
    "\n",
    "    print(\"Epoch {}. Train loss: {:.3f}\".format(ep, train_loss / train_passed))"
   ]
  },
  {
   "cell_type": "markdown",
   "id": "7a605e49",
   "metadata": {},
   "source": [
    "### Задание 2.  \n",
    "Выполнить практическую работу из лекционного ноутбука.\n",
    "\n",
    "1. Построить RNN-ячейку на основе полносвязных слоев  \n",
    "2. Применить построенную ячейку для генерации текста с выражениями героев сериала “Симпсоны”"
   ]
  },
  {
   "cell_type": "code",
   "execution_count": 18,
   "id": "a4888576",
   "metadata": {},
   "outputs": [
    {
     "data": {
      "text/html": [
       "<div>\n",
       "<style scoped>\n",
       "    .dataframe tbody tr th:only-of-type {\n",
       "        vertical-align: middle;\n",
       "    }\n",
       "\n",
       "    .dataframe tbody tr th {\n",
       "        vertical-align: top;\n",
       "    }\n",
       "\n",
       "    .dataframe thead th {\n",
       "        text-align: right;\n",
       "    }\n",
       "</style>\n",
       "<table border=\"1\" class=\"dataframe\">\n",
       "  <thead>\n",
       "    <tr style=\"text-align: right;\">\n",
       "      <th></th>\n",
       "      <th>Unnamed: 0</th>\n",
       "      <th>id</th>\n",
       "      <th>episode_id</th>\n",
       "      <th>number</th>\n",
       "      <th>raw_text</th>\n",
       "      <th>timestamp_in_ms</th>\n",
       "      <th>speaking_line</th>\n",
       "      <th>character_id</th>\n",
       "      <th>location_id</th>\n",
       "      <th>raw_character_text</th>\n",
       "      <th>raw_location_text</th>\n",
       "      <th>spoken_words</th>\n",
       "      <th>normalized_text</th>\n",
       "      <th>word_count</th>\n",
       "    </tr>\n",
       "  </thead>\n",
       "  <tbody>\n",
       "    <tr>\n",
       "      <th>0</th>\n",
       "      <td>0</td>\n",
       "      <td>10368</td>\n",
       "      <td>35</td>\n",
       "      <td>29</td>\n",
       "      <td>Lisa Simpson: Maggie, look. What's that?</td>\n",
       "      <td>235000</td>\n",
       "      <td>True</td>\n",
       "      <td>9</td>\n",
       "      <td>5.0</td>\n",
       "      <td>Lisa Simpson</td>\n",
       "      <td>Simpson Home</td>\n",
       "      <td>Maggie, look. What's that?</td>\n",
       "      <td>maggie look whats that</td>\n",
       "      <td>4.0</td>\n",
       "    </tr>\n",
       "    <tr>\n",
       "      <th>1</th>\n",
       "      <td>1</td>\n",
       "      <td>10369</td>\n",
       "      <td>35</td>\n",
       "      <td>30</td>\n",
       "      <td>Lisa Simpson: Lee-mur. Lee-mur.</td>\n",
       "      <td>237000</td>\n",
       "      <td>True</td>\n",
       "      <td>9</td>\n",
       "      <td>5.0</td>\n",
       "      <td>Lisa Simpson</td>\n",
       "      <td>Simpson Home</td>\n",
       "      <td>Lee-mur. Lee-mur.</td>\n",
       "      <td>lee-mur lee-mur</td>\n",
       "      <td>2.0</td>\n",
       "    </tr>\n",
       "    <tr>\n",
       "      <th>2</th>\n",
       "      <td>2</td>\n",
       "      <td>10370</td>\n",
       "      <td>35</td>\n",
       "      <td>31</td>\n",
       "      <td>Lisa Simpson: Zee-boo. Zee-boo.</td>\n",
       "      <td>239000</td>\n",
       "      <td>True</td>\n",
       "      <td>9</td>\n",
       "      <td>5.0</td>\n",
       "      <td>Lisa Simpson</td>\n",
       "      <td>Simpson Home</td>\n",
       "      <td>Zee-boo. Zee-boo.</td>\n",
       "      <td>zee-boo zee-boo</td>\n",
       "      <td>2.0</td>\n",
       "    </tr>\n",
       "    <tr>\n",
       "      <th>3</th>\n",
       "      <td>3</td>\n",
       "      <td>10372</td>\n",
       "      <td>35</td>\n",
       "      <td>33</td>\n",
       "      <td>Lisa Simpson: I'm trying to teach Maggie that ...</td>\n",
       "      <td>245000</td>\n",
       "      <td>True</td>\n",
       "      <td>9</td>\n",
       "      <td>5.0</td>\n",
       "      <td>Lisa Simpson</td>\n",
       "      <td>Simpson Home</td>\n",
       "      <td>I'm trying to teach Maggie that nature doesn't...</td>\n",
       "      <td>im trying to teach maggie that nature doesnt e...</td>\n",
       "      <td>24.0</td>\n",
       "    </tr>\n",
       "    <tr>\n",
       "      <th>4</th>\n",
       "      <td>4</td>\n",
       "      <td>10374</td>\n",
       "      <td>35</td>\n",
       "      <td>35</td>\n",
       "      <td>Lisa Simpson: It's like an ox, only it has a h...</td>\n",
       "      <td>254000</td>\n",
       "      <td>True</td>\n",
       "      <td>9</td>\n",
       "      <td>5.0</td>\n",
       "      <td>Lisa Simpson</td>\n",
       "      <td>Simpson Home</td>\n",
       "      <td>It's like an ox, only it has a hump and a dewl...</td>\n",
       "      <td>its like an ox only it has a hump and a dewlap...</td>\n",
       "      <td>18.0</td>\n",
       "    </tr>\n",
       "  </tbody>\n",
       "</table>\n",
       "</div>"
      ],
      "text/plain": [
       "   Unnamed: 0     id  episode_id  number  \\\n",
       "0           0  10368          35      29   \n",
       "1           1  10369          35      30   \n",
       "2           2  10370          35      31   \n",
       "3           3  10372          35      33   \n",
       "4           4  10374          35      35   \n",
       "\n",
       "                                            raw_text  timestamp_in_ms  \\\n",
       "0           Lisa Simpson: Maggie, look. What's that?           235000   \n",
       "1                    Lisa Simpson: Lee-mur. Lee-mur.           237000   \n",
       "2                    Lisa Simpson: Zee-boo. Zee-boo.           239000   \n",
       "3  Lisa Simpson: I'm trying to teach Maggie that ...           245000   \n",
       "4  Lisa Simpson: It's like an ox, only it has a h...           254000   \n",
       "\n",
       "   speaking_line  character_id  location_id raw_character_text  \\\n",
       "0           True             9          5.0       Lisa Simpson   \n",
       "1           True             9          5.0       Lisa Simpson   \n",
       "2           True             9          5.0       Lisa Simpson   \n",
       "3           True             9          5.0       Lisa Simpson   \n",
       "4           True             9          5.0       Lisa Simpson   \n",
       "\n",
       "  raw_location_text                                       spoken_words  \\\n",
       "0      Simpson Home                         Maggie, look. What's that?   \n",
       "1      Simpson Home                                  Lee-mur. Lee-mur.   \n",
       "2      Simpson Home                                  Zee-boo. Zee-boo.   \n",
       "3      Simpson Home  I'm trying to teach Maggie that nature doesn't...   \n",
       "4      Simpson Home  It's like an ox, only it has a hump and a dewl...   \n",
       "\n",
       "                                     normalized_text  word_count  \n",
       "0                             maggie look whats that         4.0  \n",
       "1                                    lee-mur lee-mur         2.0  \n",
       "2                                    zee-boo zee-boo         2.0  \n",
       "3  im trying to teach maggie that nature doesnt e...        24.0  \n",
       "4  its like an ox only it has a hump and a dewlap...        18.0  "
      ]
     },
     "execution_count": 18,
     "metadata": {},
     "output_type": "execute_result"
    }
   ],
   "source": [
    "df = pd.read_csv('Архив/data.csv')\n",
    "df.head()"
   ]
  },
  {
   "cell_type": "code",
   "execution_count": 19,
   "id": "b6da0fc2",
   "metadata": {},
   "outputs": [
    {
     "data": {
      "text/plain": [
       "['maggie look whats that',\n",
       " 'lee-mur lee-mur',\n",
       " 'zee-boo zee-boo',\n",
       " 'im trying to teach maggie that nature doesnt end with the barnyard i want her to have all the advantages that i didnt have',\n",
       " 'its like an ox only it has a hump and a dewlap hump and dew-lap hump and dew-lap',\n",
       " 'you know his blood type how romantic',\n",
       " 'oh yeah whats my shoe size',\n",
       " 'ring',\n",
       " 'yes dad',\n",
       " 'ooh look maggie what is that do-dec-ah-edron dodecahedron']"
      ]
     },
     "execution_count": 19,
     "metadata": {},
     "output_type": "execute_result"
    }
   ],
   "source": [
    "phrases = df['normalized_text'].tolist()\n",
    "phrases[:10]"
   ]
  },
  {
   "cell_type": "code",
   "execution_count": 20,
   "id": "03cf11b2",
   "metadata": {},
   "outputs": [],
   "source": [
    "text = [[c for c in ph] for ph in phrases if type(ph) is str]"
   ]
  },
  {
   "cell_type": "code",
   "execution_count": 22,
   "id": "c630817b",
   "metadata": {},
   "outputs": [
    {
     "data": {
      "text/plain": [
       "['l', 'e', 'e', '-', 'm', 'u', 'r', ' ', 'l', 'e', 'e', '-', 'm', 'u', 'r']"
      ]
     },
     "execution_count": 22,
     "metadata": {},
     "output_type": "execute_result"
    }
   ],
   "source": [
    "text[1]"
   ]
  },
  {
   "cell_type": "code",
   "execution_count": 23,
   "id": "5e6a8180",
   "metadata": {},
   "outputs": [],
   "source": [
    "CHARS = set('abcdefghijklmnopqrstuvwxyz ')\n",
    "INDEX_TO_CHAR = ['none'] + [w for w in CHARS]\n",
    "CHAR_TO_INDEX = {w: i for i, w in enumerate(INDEX_TO_CHAR)}"
   ]
  },
  {
   "cell_type": "code",
   "execution_count": 24,
   "id": "cf002c57",
   "metadata": {},
   "outputs": [],
   "source": [
    "MAX_LEN = 50\n",
    "X = torch.zeros((len(text), MAX_LEN), dtype=int)\n",
    "for i in range(len(text)):\n",
    "    for j, w in enumerate(text[i]):\n",
    "        if j >= MAX_LEN:\n",
    "            break\n",
    "        X[i, j] = CHAR_TO_INDEX.get(w, CHAR_TO_INDEX['none'])"
   ]
  },
  {
   "cell_type": "code",
   "execution_count": 26,
   "id": "ec7cf5a2",
   "metadata": {},
   "outputs": [],
   "source": [
    "class Network(torch.nn.Module):\n",
    "    def __init__(self):\n",
    "        super(Network, self).__init__()\n",
    "        self.embedding = torch.nn.Embedding(len(CHAR_TO_INDEX), 28)\n",
    "        self.rnn = torch.nn.RNN(28, 128)\n",
    "        self.drop = torch.nn.Dropout(0,5)\n",
    "        self.out= torch.nn.Linear(128, 28)\n",
    "        \n",
    "    def forward(self, sentences, state=None):\n",
    "        x = self.embedding(sentences)\n",
    "        self.relu = torch.nn.ReLU()\n",
    "        x, s = self.rnn(x)\n",
    "        return self.out(x)"
   ]
  },
  {
   "cell_type": "code",
   "execution_count": 27,
   "id": "40101b7e",
   "metadata": {},
   "outputs": [],
   "source": [
    "model = Network()\n",
    "criterion = torch.nn.CrossEntropyLoss()\n",
    "optimizer = torch.optim.SGD(model.parameters(), lr=0.05)"
   ]
  },
  {
   "cell_type": "code",
   "execution_count": 31,
   "id": "74287f06",
   "metadata": {},
   "outputs": [],
   "source": [
    "import time"
   ]
  },
  {
   "cell_type": "code",
   "execution_count": 33,
   "id": "4a2e8bfb",
   "metadata": {},
   "outputs": [],
   "source": [
    "def generate_sentence():\n",
    "    sentence = ['h', 'e', 'l', 'l', 'o']\n",
    "    \n",
    "    x = torch.zeros((1, len(sentence)), dtype=int)\n",
    "    \n",
    "    for j, w in enumerate(sentence):\n",
    "        if j >= MAX_LEN:\n",
    "            break\n",
    "        else:\n",
    "            x[0, j] = CHAR_TO_INDEX.get(w, CHAR_TO_INDEX['none'])\n",
    "    \n",
    "    for i in range(MAX_LEN):\n",
    "        o = model(x)\n",
    "        w = torch.argmax(o[-1, -1, :], keepdim=True)\n",
    "        x = torch.cat([x, w.unsqueeze(0)], axis=1)\n",
    "        ww = INDEX_TO_CHAR[w]\n",
    "        \n",
    "        if ww == 'none':\n",
    "            break\n",
    "            \n",
    "        sentence.append(ww)\n",
    "    \n",
    "    print(' '.join(sentence))"
   ]
  },
  {
   "cell_type": "code",
   "execution_count": 43,
   "id": "1fa468fb",
   "metadata": {},
   "outputs": [
    {
     "name": "stdout",
     "output_type": "stream",
     "text": [
      "Epoch 0. Time: 2.548, Train loss: 1.617\n",
      "h e l l o n g   t h e   t h e   t h e   t h e   t h e   t h e   t h e   t h e   t h e   t h e   t h e   t h e\n",
      "Epoch 1. Time: 2.873, Train loss: 1.616\n",
      "h e l l o n g   t h e   t h e   t h e   t h e   t h e   t h e   t h e   t h e   t h e   t h e   t h e   t h e\n",
      "Epoch 2. Time: 2.451, Train loss: 1.616\n",
      "h e l l o n g   t h e   t h e   t h e   t h e   t h e   t h e   t h e   t h e   t h e   t h e   t h e   t h e\n",
      "Epoch 3. Time: 2.626, Train loss: 1.616\n",
      "h e l l o n g   t h e   t h e   t h e   t h e   t h e   t h e   t h e   t h e   t h e   t h e   t h e   t h e\n",
      "Epoch 4. Time: 2.462, Train loss: 1.615\n",
      "h e l l o n g   t h e   t h e   t h e   t h e   t h e   t h e   t h e   t h e   t h e   t h e   t h e   t h e\n",
      "Epoch 5. Time: 2.360, Train loss: 1.615\n",
      "h e l l o n g   t h e   t h e   t h e   t h e   t h e   t h e   t h e   t h e   t h e   t h e   t h e   t h e\n",
      "Epoch 6. Time: 2.342, Train loss: 1.615\n",
      "h e l l o n g   t h e   t h e   t h e   t h e   t h e   t h e   t h e   t h e   t h e   t h e   t h e   t h e\n",
      "Epoch 7. Time: 2.349, Train loss: 1.614\n",
      "h e l l o n g   t h e   t h e   t h e   t h e   t h e   t h e   t h e   t h e   t h e   t h e   t h e   t h e\n",
      "Epoch 8. Time: 2.348, Train loss: 1.614\n",
      "h e l l o n g   t h e   t h e   t h e   t h e   t h e   t h e   t h e   t h e   t h e   t h e   t h e   t h e\n",
      "Epoch 9. Time: 2.398, Train loss: 1.614\n",
      "h e l l o n g   t h e   t h e   t h e   t h e   t h e   t h e   t h e   t h e   t h e   t h e   t h e   t h e\n"
     ]
    }
   ],
   "source": [
    "for ep in range(10):\n",
    "    start = time.time()\n",
    "    train_loss = 0.\n",
    "    train_passed = 0\n",
    "\n",
    "    for i in range(int(len(X) / 100)):\n",
    "        batch = X[i * 100:(i + 1) * 100]\n",
    "        X_batch = batch[:, :-1]\n",
    "        Y_batch = batch[:, 1:].flatten()\n",
    "\n",
    "        optimizer.zero_grad()\n",
    "        answers = model.forward(X_batch)\n",
    "        answers = answers.view(-1, len(INDEX_TO_CHAR))\n",
    "        loss = criterion(answers, Y_batch)\n",
    "        train_loss += loss.item()\n",
    "\n",
    "        loss.backward()\n",
    "        optimizer.step()\n",
    "        train_passed += 1\n",
    "\n",
    "    print(\"Epoch {}. Time: {:.3f}, Train loss: {:.3f}\".format(ep, time.time() - start, train_loss / train_passed))\n",
    "    generate_sentence()"
   ]
  },
  {
   "cell_type": "markdown",
   "id": "d98d4f48",
   "metadata": {},
   "source": [
    "Запускал много раз, ошибка падает, но текс свалился в the и не меняется."
   ]
  }
 ],
 "metadata": {
  "kernelspec": {
   "display_name": "Python 3 (ipykernel)",
   "language": "python",
   "name": "python3"
  },
  "language_info": {
   "codemirror_mode": {
    "name": "ipython",
    "version": 3
   },
   "file_extension": ".py",
   "mimetype": "text/x-python",
   "name": "python",
   "nbconvert_exporter": "python",
   "pygments_lexer": "ipython3",
   "version": "3.9.12"
  }
 },
 "nbformat": 4,
 "nbformat_minor": 5
}
