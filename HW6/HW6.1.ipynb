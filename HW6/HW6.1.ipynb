{
 "cells": [
  {
   "cell_type": "markdown",
   "id": "e8fc9460",
   "metadata": {},
   "source": [
    "Сгенерировать последовательности, которые бы состояли из цифр (от 0 до 9)  \n",
    "и задавались следующим образом:  \n",
    "x - последовательность цифр  \n",
    "y1 = x1,  \n",
    "y(i) = x(i) + x(1).  \n",
    "Если y(i) >= 10,  \n",
    "то y(i) = y(i) - 10  \n",
    "\n",
    "Задача:  \n",
    "научить модель предсказывать y(i) по x(i)  \n",
    "пробовать RNN, LSTM, GRU"
   ]
  },
  {
   "cell_type": "code",
   "execution_count": 1,
   "id": "e9f326ba",
   "metadata": {},
   "outputs": [],
   "source": [
    "import torch\n",
    "from torch import nn\n",
    "from torch.utils.data import TensorDataset, DataLoader"
   ]
  },
  {
   "cell_type": "code",
   "execution_count": 2,
   "id": "1e4a60c4",
   "metadata": {},
   "outputs": [],
   "source": [
    "device = torch.device(\"cuda\" if torch.cuda.is_available() else \"cpu\")"
   ]
  },
  {
   "cell_type": "code",
   "execution_count": 3,
   "id": "35340f7a",
   "metadata": {},
   "outputs": [],
   "source": [
    "def digit_encoder(x):\n",
    "#    x = torch.randint(0, 10, (5, ))\n",
    "    y = torch.zeros_like(x)\n",
    "    \n",
    "    for i in range(5):\n",
    "        y[0] = x[0]\n",
    "        y[i] = x[i] + x[0]\n",
    "        if y[i] >= 10:\n",
    "            y[i] = x[i] + x[0] -10\n",
    "    return y"
   ]
  },
  {
   "cell_type": "code",
   "execution_count": 4,
   "id": "15b9415f",
   "metadata": {},
   "outputs": [],
   "source": [
    "def dataset(iterance):\n",
    "    X_train = torch.stack([torch.randint(0, 10, (5, )) for i in range(iterance)])\n",
    "    Y_train = torch.stack([digit_encoder(i) for i in X_train])\n",
    "  \n",
    "    return X_train, Y_train"
   ]
  },
  {
   "cell_type": "code",
   "execution_count": 5,
   "id": "1b3eedaa",
   "metadata": {},
   "outputs": [],
   "source": [
    "x_train, y_train = dataset(1000)"
   ]
  },
  {
   "cell_type": "code",
   "execution_count": 6,
   "id": "222ee289",
   "metadata": {},
   "outputs": [],
   "source": [
    "data_iter = DataLoader(TensorDataset(x_train, y_train),\n",
    "                      batch_size=128,\n",
    "                      shuffle=True)"
   ]
  },
  {
   "cell_type": "markdown",
   "id": "1403b2c4",
   "metadata": {},
   "source": [
    "for X, y in data_iter:\n",
    "    print(X, y)\n",
    "    break"
   ]
  },
  {
   "cell_type": "markdown",
   "id": "ba5e5b85",
   "metadata": {},
   "source": [
    "RNN"
   ]
  },
  {
   "cell_type": "code",
   "execution_count": 7,
   "id": "abd599bc",
   "metadata": {},
   "outputs": [],
   "source": [
    "class RNNNetwork(torch.nn.Module):\n",
    "    def __init__(self):\n",
    "        super().__init__()\n",
    "        self.embed = torch.nn.Embedding(10, 10)\n",
    "        self.rnn = torch.nn.RNN(10, 128, batch_first=True)\n",
    "        self.linear = torch.nn.Linear(128, 10)\n",
    "\n",
    "    def forward(self, sentence, state=None):\n",
    "        embed = self.embed(sentence)\n",
    "        out, state = self.rnn(embed)\n",
    "        return self.linear(out)"
   ]
  },
  {
   "cell_type": "code",
   "execution_count": 8,
   "id": "5a95a0e9",
   "metadata": {},
   "outputs": [],
   "source": [
    "model = RNNNetwork()\n",
    "criterion = torch.nn.CrossEntropyLoss()\n",
    "optimizer = torch.optim.Adam(model.parameters(), lr=0.01)"
   ]
  },
  {
   "cell_type": "code",
   "execution_count": 9,
   "id": "7bdaf217",
   "metadata": {},
   "outputs": [
    {
     "name": "stdout",
     "output_type": "stream",
     "text": [
      "Epoch: 1, Train loss: 18.06309\n",
      " X tensor([7, 2, 1, 9, 6])\n",
      " Y pred tensor([7, 2, 1, 9, 6])\n",
      " Y tensor([7, 9, 8, 6, 3])\n",
      "Epoch: 11, Train loss: 10.43644\n",
      "Epoch: 21, Train loss: 0.46998\n",
      "Epoch: 31, Train loss: 0.10671\n",
      "Epoch: 41, Train loss: 0.05437\n",
      "Epoch: 51, Train loss: 0.03435\n",
      "Epoch: 61, Train loss: 0.02433\n",
      "Epoch: 71, Train loss: 0.01834\n",
      "Epoch: 81, Train loss: 0.01443\n",
      "Epoch: 91, Train loss: 0.01171\n",
      "Epoch: 101, Train loss: 0.00971\n",
      " X tensor([9, 0, 3, 4, 0])\n",
      " Y pred tensor([9, 9, 2, 3, 9])\n",
      " Y tensor([9, 9, 2, 3, 9])\n"
     ]
    }
   ],
   "source": [
    "for epoch in range(101):\n",
    "    train_loss, train_passed = .0, .0\n",
    "\n",
    "    model.train()\n",
    "    for x, y in data_iter:\n",
    "        y = y.view(1, -1).squeeze()\n",
    "        optimizer.zero_grad()\n",
    "        out = model.forward(x).view(-1, 10)\n",
    "        loss = criterion(out, y)\n",
    "        train_loss += loss.item()\n",
    "        \n",
    "        loss.backward()\n",
    "        optimizer.step()\n",
    "        train_passed += 1\n",
    "\n",
    "    if epoch%10 == 0:\n",
    "        print(f'Epoch: {epoch+1}, Train loss: {train_loss:.5f}')\n",
    "    if epoch%100 == 0:    \n",
    "        x = torch.randint(0, 10, (5,))\n",
    "        out = model.forward(x).argmax(dim=1).view(-1)\n",
    "        y = digit_encoder(x).view(-1)\n",
    "        print(f' X {x}\\n Y pred {out}\\n Y {y}')"
   ]
  },
  {
   "cell_type": "markdown",
   "id": "a8426f16",
   "metadata": {},
   "source": [
    "LSTM"
   ]
  },
  {
   "cell_type": "code",
   "execution_count": 10,
   "id": "b2caac3c",
   "metadata": {},
   "outputs": [],
   "source": [
    "class LSTMNetwork(torch.nn.Module):\n",
    "    def __init__(self):\n",
    "        super().__init__()\n",
    "        self.embed = torch.nn.Embedding(10, 10)\n",
    "        self.lstm = torch.nn.LSTM(10, 128, batch_first=True)\n",
    "        self.linear = torch.nn.Linear(128, 10)\n",
    "\n",
    "    def forward(self, sentence, state=None):\n",
    "        embed = self.embed(sentence)\n",
    "        out, state = self.lstm(embed)\n",
    "        return self.linear(out)"
   ]
  },
  {
   "cell_type": "code",
   "execution_count": 11,
   "id": "9baf539a",
   "metadata": {},
   "outputs": [],
   "source": [
    "model = LSTMNetwork()\n",
    "criterion = torch.nn.CrossEntropyLoss()\n",
    "optimizer = torch.optim.Adam(model.parameters(), lr=0.01)"
   ]
  },
  {
   "cell_type": "code",
   "execution_count": 12,
   "id": "2a6b557d",
   "metadata": {},
   "outputs": [
    {
     "name": "stdout",
     "output_type": "stream",
     "text": [
      "Epoch: 1, Train loss: 18.08221\n",
      " X tensor([9, 1, 8, 9, 1])\n",
      " Y pred tensor([9, 1, 8, 9, 1])\n",
      " Y tensor([9, 0, 7, 8, 0])\n",
      "Epoch: 11, Train loss: 0.08618\n",
      "Epoch: 21, Train loss: 0.02068\n",
      "Epoch: 31, Train loss: 0.01064\n",
      "Epoch: 41, Train loss: 0.00658\n",
      "Epoch: 51, Train loss: 0.00452\n",
      "Epoch: 61, Train loss: 0.00331\n",
      "Epoch: 71, Train loss: 0.00255\n",
      "Epoch: 81, Train loss: 0.00203\n",
      "Epoch: 91, Train loss: 0.00166\n",
      "Epoch: 101, Train loss: 0.00138\n",
      " X tensor([8, 0, 8, 9, 0])\n",
      " Y pred tensor([8, 8, 6, 7, 8])\n",
      " Y tensor([8, 8, 6, 7, 8])\n"
     ]
    }
   ],
   "source": [
    "for epoch in range(101):\n",
    "    train_loss, train_passed = .0, .0\n",
    "\n",
    "    model.train()\n",
    "    for x, y in data_iter:\n",
    "        y = y.view(1, -1).squeeze()\n",
    "        optimizer.zero_grad()\n",
    "        out = model.forward(x).view(-1, 10)\n",
    "        loss = criterion(out, y)\n",
    "        train_loss += loss.item()\n",
    "        \n",
    "        loss.backward()\n",
    "        optimizer.step()\n",
    "        train_passed += 1\n",
    "\n",
    "    if epoch%10 == 0:\n",
    "        print(f'Epoch: {epoch+1}, Train loss: {train_loss:.5f}')\n",
    "    if epoch%100 == 0:    \n",
    "        x = torch.randint(0, 10, (5,))\n",
    "        out = model.forward(x).argmax(dim=1).view(-1)\n",
    "        y = digit_encoder(x).view(-1)\n",
    "        print(f' X {x}\\n Y pred {out}\\n Y {y}')"
   ]
  },
  {
   "cell_type": "markdown",
   "id": "00e8128a",
   "metadata": {},
   "source": [
    "GRU"
   ]
  },
  {
   "cell_type": "code",
   "execution_count": 13,
   "id": "dd174f70",
   "metadata": {},
   "outputs": [],
   "source": [
    "class GRUNetwork(torch.nn.Module):\n",
    "    def __init__(self):\n",
    "        super().__init__()\n",
    "        self.embed = torch.nn.Embedding(10, 10)\n",
    "        self.gru = torch.nn.GRU(10, 128, batch_first=True)\n",
    "        self.linear = torch.nn.Linear(128, 10)\n",
    "\n",
    "    def forward(self, sentence, state=None):\n",
    "        embed = self.embed(sentence)\n",
    "        out, state = self.gru(embed)\n",
    "        return self.linear(out)"
   ]
  },
  {
   "cell_type": "code",
   "execution_count": 14,
   "id": "5c3827f6",
   "metadata": {},
   "outputs": [],
   "source": [
    "model = GRUNetwork()\n",
    "criterion = torch.nn.CrossEntropyLoss()\n",
    "optimizer = torch.optim.Adam(model.parameters(), lr=0.01)"
   ]
  },
  {
   "cell_type": "code",
   "execution_count": 15,
   "id": "04d2e43b",
   "metadata": {},
   "outputs": [
    {
     "name": "stdout",
     "output_type": "stream",
     "text": [
      "Epoch: 1, Train loss: 17.98467\n",
      " X tensor([1, 9, 0, 7, 4])\n",
      " Y pred tensor([1, 9, 0, 7, 4])\n",
      " Y tensor([1, 0, 1, 8, 5])\n",
      "Epoch: 11, Train loss: 0.20317\n",
      "Epoch: 21, Train loss: 0.03513\n",
      "Epoch: 31, Train loss: 0.01776\n",
      "Epoch: 41, Train loss: 0.01101\n",
      "Epoch: 51, Train loss: 0.00757\n",
      "Epoch: 61, Train loss: 0.00559\n",
      "Epoch: 71, Train loss: 0.00431\n",
      "Epoch: 81, Train loss: 0.00342\n",
      "Epoch: 91, Train loss: 0.00280\n",
      "Epoch: 101, Train loss: 0.00233\n",
      " X tensor([2, 2, 2, 2, 4])\n",
      " Y pred tensor([2, 4, 4, 4, 6])\n",
      " Y tensor([2, 4, 4, 4, 6])\n"
     ]
    }
   ],
   "source": [
    "for epoch in range(101):\n",
    "    train_loss, train_passed = .0, .0\n",
    "\n",
    "    model.train()\n",
    "    for x, y in data_iter:\n",
    "        y = y.view(1, -1).squeeze()\n",
    "        optimizer.zero_grad()\n",
    "        out = model.forward(x).view(-1, 10)\n",
    "        loss = criterion(out, y)\n",
    "        train_loss += loss.item()\n",
    "        \n",
    "        loss.backward()\n",
    "        optimizer.step()\n",
    "        train_passed += 1\n",
    "\n",
    "    if epoch%10 == 0:\n",
    "        print(f'Epoch: {epoch+1}, Train loss: {train_loss:.5f}')\n",
    "    if epoch%100 == 0:    \n",
    "        x = torch.randint(0, 10, (5,))\n",
    "        out = model.forward(x).argmax(dim=1).view(-1)\n",
    "        y = digit_encoder(x).view(-1)\n",
    "        print(f' X {x}\\n Y pred {out}\\n Y {y}')"
   ]
  }
 ],
 "metadata": {
  "kernelspec": {
   "display_name": "Python 3 (ipykernel)",
   "language": "python",
   "name": "python3"
  },
  "language_info": {
   "codemirror_mode": {
    "name": "ipython",
    "version": 3
   },
   "file_extension": ".py",
   "mimetype": "text/x-python",
   "name": "python",
   "nbconvert_exporter": "python",
   "pygments_lexer": "ipython3",
   "version": "3.9.12"
  }
 },
 "nbformat": 4,
 "nbformat_minor": 5
}
